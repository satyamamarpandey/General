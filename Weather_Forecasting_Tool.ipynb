{
  "nbformat": 4,
  "nbformat_minor": 0,
  "metadata": {
    "colab": {
      "provenance": []
    },
    "kernelspec": {
      "name": "python3",
      "display_name": "Python 3"
    },
    "language_info": {
      "name": "python"
    }
  },
  "cells": [
    {
      "cell_type": "code",
      "source": [
        "pip install pyinputplus geonamescache"
      ],
      "metadata": {
        "colab": {
          "base_uri": "https://localhost:8080/"
        },
        "id": "uIoUxp_iNFfc",
        "outputId": "b35a1b69-e12a-4212-dc55-9f73a1163d5a"
      },
      "execution_count": 2,
      "outputs": [
        {
          "output_type": "stream",
          "name": "stdout",
          "text": [
            "Looking in indexes: https://pypi.org/simple, https://us-python.pkg.dev/colab-wheels/public/simple/\n",
            "Collecting pyinputplus\n",
            "  Downloading PyInputPlus-0.2.12.tar.gz (20 kB)\n",
            "  Installing build dependencies ... \u001b[?25l\u001b[?25hdone\n",
            "  Getting requirements to build wheel ... \u001b[?25l\u001b[?25hdone\n",
            "  Preparing metadata (pyproject.toml) ... \u001b[?25l\u001b[?25hdone\n",
            "Collecting geonamescache\n",
            "  Downloading geonamescache-1.6.0-py3-none-any.whl (26.6 MB)\n",
            "\u001b[2K     \u001b[90m━━━━━━━━━━━━━━━━━━━━━━━━━━━━━━━━━━━━━━━━\u001b[0m \u001b[32m26.6/26.6 MB\u001b[0m \u001b[31m44.7 MB/s\u001b[0m eta \u001b[36m0:00:00\u001b[0m\n",
            "\u001b[?25hCollecting pysimplevalidate>=0.2.7 (from pyinputplus)\n",
            "  Downloading PySimpleValidate-0.2.12.tar.gz (22 kB)\n",
            "  Installing build dependencies ... \u001b[?25l\u001b[?25hdone\n",
            "  Getting requirements to build wheel ... \u001b[?25l\u001b[?25hdone\n",
            "  Preparing metadata (pyproject.toml) ... \u001b[?25l\u001b[?25hdone\n",
            "Collecting stdiomask>=0.0.3 (from pyinputplus)\n",
            "  Downloading stdiomask-0.0.6.tar.gz (3.6 kB)\n",
            "  Installing build dependencies ... \u001b[?25l\u001b[?25hdone\n",
            "  Getting requirements to build wheel ... \u001b[?25l\u001b[?25hdone\n",
            "  Preparing metadata (pyproject.toml) ... \u001b[?25l\u001b[?25hdone\n",
            "Building wheels for collected packages: pyinputplus, pysimplevalidate, stdiomask\n",
            "  Building wheel for pyinputplus (pyproject.toml) ... \u001b[?25l\u001b[?25hdone\n",
            "  Created wheel for pyinputplus: filename=PyInputPlus-0.2.12-py3-none-any.whl size=11297 sha256=9e474e92f49cc0b642c6f05acbbffb1e5ad31359f70da138c98c09f0cc7acbcb\n",
            "  Stored in directory: /root/.cache/pip/wheels/13/ec/a5/f780c8008b74e885aada43369ebf4d350edfd12bb5909ccb23\n",
            "  Building wheel for pysimplevalidate (pyproject.toml) ... \u001b[?25l\u001b[?25hdone\n",
            "  Created wheel for pysimplevalidate: filename=PySimpleValidate-0.2.12-py3-none-any.whl size=16176 sha256=e63ca94793abe1d2b377a1e273f57e96d07727e758918b7950efa8e5790703b1\n",
            "  Stored in directory: /root/.cache/pip/wheels/64/29/c9/2ee861e5b0775e289013b7c7157e0bdcea3a1b844f835b2eb8\n",
            "  Building wheel for stdiomask (pyproject.toml) ... \u001b[?25l\u001b[?25hdone\n",
            "  Created wheel for stdiomask: filename=stdiomask-0.0.6-py3-none-any.whl size=3306 sha256=827393af7737bec0a2709d221ae477841dc28d0a7b7e64bda9f8c390f4c41437\n",
            "  Stored in directory: /root/.cache/pip/wheels/6c/00/4b/0715696f101d7376f67a83cf3d545feb8c241eeee75b80bb6f\n",
            "Successfully built pyinputplus pysimplevalidate stdiomask\n",
            "Installing collected packages: stdiomask, pysimplevalidate, geonamescache, pyinputplus\n",
            "Successfully installed geonamescache-1.6.0 pyinputplus-0.2.12 pysimplevalidate-0.2.12 stdiomask-0.0.6\n"
          ]
        }
      ]
    },
    {
      "cell_type": "code",
      "source": [
        "pip install PySimpleGUI"
      ],
      "metadata": {
        "colab": {
          "base_uri": "https://localhost:8080/"
        },
        "id": "Ai2vRDZJN9Zg",
        "outputId": "43b7e55f-3c12-4f5e-b8ac-89a2a92f5550"
      },
      "execution_count": 5,
      "outputs": [
        {
          "output_type": "stream",
          "name": "stdout",
          "text": [
            "Looking in indexes: https://pypi.org/simple, https://us-python.pkg.dev/colab-wheels/public/simple/\n",
            "Collecting PySimpleGUI\n",
            "  Downloading PySimpleGUI-4.60.5-py3-none-any.whl (512 kB)\n",
            "\u001b[2K     \u001b[90m━━━━━━━━━━━━━━━━━━━━━━━━━━━━━━━━━━━━━━\u001b[0m \u001b[32m512.7/512.7 kB\u001b[0m \u001b[31m16.1 MB/s\u001b[0m eta \u001b[36m0:00:00\u001b[0m\n",
            "\u001b[?25hInstalling collected packages: PySimpleGUI\n",
            "Successfully installed PySimpleGUI-4.60.5\n"
          ]
        }
      ]
    },
    {
      "cell_type": "code",
      "execution_count": 14,
      "metadata": {
        "colab": {
          "base_uri": "https://localhost:8080/"
        },
        "id": "hNMhD9zoL_UX",
        "outputId": "1b257a28-dc1b-4a90-b5d1-4282447b1b6a"
      },
      "outputs": [
        {
          "output_type": "stream",
          "name": "stdout",
          "text": [
            "Enter the country: India\n",
            "Enter the state: Uttar Pradesh\n",
            "Enter the city: Noida\n",
            "Weather Forecast for Noida, Uttar Pradesh, India:\n",
            "----------------------------------------\n",
            "Temperature: 26.18°C\n",
            "Humidity: 39%\n",
            "Weather Conditions: overcast clouds\n",
            "----------------------------------------\n"
          ]
        }
      ],
      "source": [
        "import requests\n",
        "import json\n",
        "from geonamescache import GeonamesCache\n",
        "\n",
        "def fetch_weather_forecast(city_name, api_key):\n",
        "    base_url = \"http://api.openweathermap.org/data/2.5/weather\"\n",
        "    params = {\n",
        "        \"q\": city_name,\n",
        "        \"appid\": api_key,\n",
        "        \"units\": \"metric\"\n",
        "    }\n",
        "\n",
        "    try:\n",
        "        response = requests.get(base_url, params=params)\n",
        "        response.raise_for_status()  # Raise exception for non-2xx status codes\n",
        "        return response.json()\n",
        "    except requests.exceptions.RequestException as e:\n",
        "        print(f\"An error occurred while fetching the weather forecast: {e}\")\n",
        "        return None\n",
        "\n",
        "def display_weather_forecast(city_name, weather_data):\n",
        "    if weather_data is None:\n",
        "        return\n",
        "\n",
        "    print(f\"Weather Forecast for {city_name}:\")\n",
        "    print(\"-\" * 40)\n",
        "    print(f\"Temperature: {weather_data['main']['temp']}°C\")\n",
        "    print(f\"Humidity: {weather_data['main']['humidity']}%\")\n",
        "    print(f\"Weather Conditions: {weather_data['weather'][0]['description']}\")\n",
        "    print(\"-\" * 40)\n",
        "\n",
        "def main():\n",
        "    # Load all countries, states, and cities\n",
        "    gc = GeonamesCache()\n",
        "    countries = gc.get_countries()\n",
        "    states = gc.get_us_states()  # Use only US states for this example, modify as needed\n",
        "    cities = gc.get_cities()\n",
        "\n",
        "    # Prompt user for country\n",
        "    country = input(\"Enter the country: \")\n",
        "\n",
        "    # Prompt user for state\n",
        "    state = input(\"Enter the state: \")\n",
        "\n",
        "    # Prompt user for city\n",
        "    city = input(\"Enter the city: \")\n",
        "\n",
        "    # Construct full location name\n",
        "    location = city\n",
        "    if state:\n",
        "        location += f\", {state}\"\n",
        "    if country:\n",
        "        location += f\", {country}\"\n",
        "\n",
        "    api_key = \"18b6528785f41ea32f9a2b424ac62bb4\"\n",
        "    weather_data = fetch_weather_forecast(location, api_key)\n",
        "    display_weather_forecast(location, weather_data)\n",
        "\n",
        "if __name__ == \"__main__\":\n",
        "    main()\n"
      ]
    }
  ]
}